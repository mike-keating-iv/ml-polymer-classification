{
 "cells": [
  {
   "cell_type": "markdown",
   "metadata": {},
   "source": [
    "# Polymers Classifier\n",
    "\n",
    "EM 538\n",
    "Instructor:  \n",
    "Student: Mike Keating\n"
   ]
  },
  {
   "cell_type": "markdown",
   "metadata": {},
   "source": [
    "## Introduction and Background\n",
    "\n"
   ]
  },
  {
   "cell_type": "markdown",
   "metadata": {},
   "source": [
    "## EDA, Cleaning, Preprocessing\n",
    "\n",
    "Data was queried by polymer symbol (PP, PMMA, etc) and saved to separate csv files. Due to the nature of the search, there are likely blends and special materials included in each dataset, and we will want to pair down to a reasonable number of polymer classes\n"
   ]
  },
  {
   "cell_type": "code",
   "execution_count": 146,
   "metadata": {},
   "outputs": [
    {
     "data": {
      "application/vnd.microsoft.datawrangler.viewer.v0+json": {
       "columns": [
        {
         "name": "index",
         "rawType": "object",
         "type": "string"
        },
        {
         "name": "density",
         "rawType": "float64",
         "type": "float"
        },
        {
         "name": "tensile_strength_at_yield",
         "rawType": "float64",
         "type": "float"
        },
        {
         "name": "melting_temperature",
         "rawType": "float64",
         "type": "float"
        },
        {
         "name": "flexural_modulus",
         "rawType": "float64",
         "type": "float"
        },
        {
         "name": "flexural_strength",
         "rawType": "float64",
         "type": "float"
        },
        {
         "name": "tensile_modulus",
         "rawType": "float64",
         "type": "float"
        },
        {
         "name": "tensile_strength_at_break",
         "rawType": "float64",
         "type": "float"
        },
        {
         "name": "tensile_elongation_at_yield_%_strain",
         "rawType": "float64",
         "type": "float"
        },
        {
         "name": "tensile_elongation_at_break_%_strain",
         "rawType": "float64",
         "type": "float"
        },
        {
         "name": "izod_notched_impact_23c_kjm2",
         "rawType": "float64",
         "type": "float"
        },
        {
         "name": "hardness_rockwell_r",
         "rawType": "float64",
         "type": "float"
        },
        {
         "name": "hardness_shore_d",
         "rawType": "float64",
         "type": "float"
        }
       ],
       "ref": "508bbeac-6335-4540-9a8c-612d2c6f9be3",
       "rows": [
        [
         "count",
         "90013.0",
         "41474.0",
         "21905.0",
         "64625.0",
         "38131.0",
         "40056.0",
         "32333.0",
         "25546.0",
         "57706.0",
         "50658.0",
         "14019.0",
         "8424.0"
        ],
        [
         "mean",
         "1.2195636685034383",
         "47.601637879924894",
         "208.0057749372289",
         "4282.0314737330755",
         "130.349496866067",
         "5509.193415010174",
         "78.07104522005382",
         "14.035342409461878",
         "121.63752746681455",
         "35.9929218798262",
         "101.60097011199088",
         "65.60458214624882"
        ],
        [
         "std",
         "4.424560640497778",
         "57.46464422264935",
         "52.036752056806456",
         "34095.352313239084",
         "149.7858271982927",
         "5401.206572630634",
         "107.10646148567537",
         "57.44907000248817",
         "1718.6602330433973",
         "133.54605592352286",
         "18.392495978478262",
         "13.317517415386563"
        ],
        [
         "min",
         "0.00092",
         "0.0827",
         "0.0",
         "0.965",
         "0.0",
         "0.0",
         "0.0",
         "0.2",
         "0.0",
         "0.016",
         "7.0",
         "0.0"
        ],
        [
         "25%",
         "1.02",
         "26.0",
         "166.0",
         "1590.0",
         "68.3",
         "2160.0",
         "23.5",
         "3.9",
         "3.4",
         "5.196078431372549",
         "91.0",
         "60.0"
        ],
        [
         "50%",
         "1.18",
         "36.0",
         "220.0",
         "2410.0",
         "100.0",
         "3200.0",
         "60.0",
         "6.0",
         "16.0",
         "9.411764705882351",
         "105.0",
         "67.0"
        ],
        [
         "75%",
         "1.35",
         "60.0",
         "260.0",
         "5240.0",
         "180.0",
         "7700.0",
         "117.0",
         "10.0",
         "120.0",
         "20.0",
         "117.0",
         "75.0"
        ],
        [
         "max",
         "950.0",
         "9510.0",
         "387.0",
         "8600000.0",
         "20700.0",
         "138000.0",
         "14000.0",
         "3700.0",
         "300000.0",
         "3921.568627450981",
         "145.0",
         "122.0"
        ]
       ],
       "shape": {
        "columns": 12,
        "rows": 8
       }
      },
      "text/html": [
       "<div>\n",
       "<style scoped>\n",
       "    .dataframe tbody tr th:only-of-type {\n",
       "        vertical-align: middle;\n",
       "    }\n",
       "\n",
       "    .dataframe tbody tr th {\n",
       "        vertical-align: top;\n",
       "    }\n",
       "\n",
       "    .dataframe thead th {\n",
       "        text-align: right;\n",
       "    }\n",
       "</style>\n",
       "<table border=\"1\" class=\"dataframe\">\n",
       "  <thead>\n",
       "    <tr style=\"text-align: right;\">\n",
       "      <th></th>\n",
       "      <th>density</th>\n",
       "      <th>tensile_strength_at_yield</th>\n",
       "      <th>melting_temperature</th>\n",
       "      <th>flexural_modulus</th>\n",
       "      <th>flexural_strength</th>\n",
       "      <th>tensile_modulus</th>\n",
       "      <th>tensile_strength_at_break</th>\n",
       "      <th>tensile_elongation_at_yield_%_strain</th>\n",
       "      <th>tensile_elongation_at_break_%_strain</th>\n",
       "      <th>izod_notched_impact_23c_kjm2</th>\n",
       "      <th>hardness_rockwell_r</th>\n",
       "      <th>hardness_shore_d</th>\n",
       "    </tr>\n",
       "  </thead>\n",
       "  <tbody>\n",
       "    <tr>\n",
       "      <th>count</th>\n",
       "      <td>90013.000000</td>\n",
       "      <td>41474.000000</td>\n",
       "      <td>21905.000000</td>\n",
       "      <td>6.462500e+04</td>\n",
       "      <td>38131.000000</td>\n",
       "      <td>40056.000000</td>\n",
       "      <td>32333.000000</td>\n",
       "      <td>25546.000000</td>\n",
       "      <td>57706.000000</td>\n",
       "      <td>50658.000000</td>\n",
       "      <td>14019.000000</td>\n",
       "      <td>8424.000000</td>\n",
       "    </tr>\n",
       "    <tr>\n",
       "      <th>mean</th>\n",
       "      <td>1.219564</td>\n",
       "      <td>47.601638</td>\n",
       "      <td>208.005775</td>\n",
       "      <td>4.282031e+03</td>\n",
       "      <td>130.349497</td>\n",
       "      <td>5509.193415</td>\n",
       "      <td>78.071045</td>\n",
       "      <td>14.035342</td>\n",
       "      <td>121.637527</td>\n",
       "      <td>35.992922</td>\n",
       "      <td>101.600970</td>\n",
       "      <td>65.604582</td>\n",
       "    </tr>\n",
       "    <tr>\n",
       "      <th>std</th>\n",
       "      <td>4.424561</td>\n",
       "      <td>57.464644</td>\n",
       "      <td>52.036752</td>\n",
       "      <td>3.409535e+04</td>\n",
       "      <td>149.785827</td>\n",
       "      <td>5401.206573</td>\n",
       "      <td>107.106461</td>\n",
       "      <td>57.449070</td>\n",
       "      <td>1718.660233</td>\n",
       "      <td>133.546056</td>\n",
       "      <td>18.392496</td>\n",
       "      <td>13.317517</td>\n",
       "    </tr>\n",
       "    <tr>\n",
       "      <th>min</th>\n",
       "      <td>0.000920</td>\n",
       "      <td>0.082700</td>\n",
       "      <td>0.000000</td>\n",
       "      <td>9.650000e-01</td>\n",
       "      <td>0.000000</td>\n",
       "      <td>0.000000</td>\n",
       "      <td>0.000000</td>\n",
       "      <td>0.200000</td>\n",
       "      <td>0.000000</td>\n",
       "      <td>0.016000</td>\n",
       "      <td>7.000000</td>\n",
       "      <td>0.000000</td>\n",
       "    </tr>\n",
       "    <tr>\n",
       "      <th>25%</th>\n",
       "      <td>1.020000</td>\n",
       "      <td>26.000000</td>\n",
       "      <td>166.000000</td>\n",
       "      <td>1.590000e+03</td>\n",
       "      <td>68.300000</td>\n",
       "      <td>2160.000000</td>\n",
       "      <td>23.500000</td>\n",
       "      <td>3.900000</td>\n",
       "      <td>3.400000</td>\n",
       "      <td>5.196078</td>\n",
       "      <td>91.000000</td>\n",
       "      <td>60.000000</td>\n",
       "    </tr>\n",
       "    <tr>\n",
       "      <th>50%</th>\n",
       "      <td>1.180000</td>\n",
       "      <td>36.000000</td>\n",
       "      <td>220.000000</td>\n",
       "      <td>2.410000e+03</td>\n",
       "      <td>100.000000</td>\n",
       "      <td>3200.000000</td>\n",
       "      <td>60.000000</td>\n",
       "      <td>6.000000</td>\n",
       "      <td>16.000000</td>\n",
       "      <td>9.411765</td>\n",
       "      <td>105.000000</td>\n",
       "      <td>67.000000</td>\n",
       "    </tr>\n",
       "    <tr>\n",
       "      <th>75%</th>\n",
       "      <td>1.350000</td>\n",
       "      <td>60.000000</td>\n",
       "      <td>260.000000</td>\n",
       "      <td>5.240000e+03</td>\n",
       "      <td>180.000000</td>\n",
       "      <td>7700.000000</td>\n",
       "      <td>117.000000</td>\n",
       "      <td>10.000000</td>\n",
       "      <td>120.000000</td>\n",
       "      <td>20.000000</td>\n",
       "      <td>117.000000</td>\n",
       "      <td>75.000000</td>\n",
       "    </tr>\n",
       "    <tr>\n",
       "      <th>max</th>\n",
       "      <td>950.000000</td>\n",
       "      <td>9510.000000</td>\n",
       "      <td>387.000000</td>\n",
       "      <td>8.600000e+06</td>\n",
       "      <td>20700.000000</td>\n",
       "      <td>138000.000000</td>\n",
       "      <td>14000.000000</td>\n",
       "      <td>3700.000000</td>\n",
       "      <td>300000.000000</td>\n",
       "      <td>3921.568627</td>\n",
       "      <td>145.000000</td>\n",
       "      <td>122.000000</td>\n",
       "    </tr>\n",
       "  </tbody>\n",
       "</table>\n",
       "</div>"
      ],
      "text/plain": [
       "            density  tensile_strength_at_yield  melting_temperature  \\\n",
       "count  90013.000000               41474.000000         21905.000000   \n",
       "mean       1.219564                  47.601638           208.005775   \n",
       "std        4.424561                  57.464644            52.036752   \n",
       "min        0.000920                   0.082700             0.000000   \n",
       "25%        1.020000                  26.000000           166.000000   \n",
       "50%        1.180000                  36.000000           220.000000   \n",
       "75%        1.350000                  60.000000           260.000000   \n",
       "max      950.000000                9510.000000           387.000000   \n",
       "\n",
       "       flexural_modulus  flexural_strength  tensile_modulus  \\\n",
       "count      6.462500e+04       38131.000000     40056.000000   \n",
       "mean       4.282031e+03         130.349497      5509.193415   \n",
       "std        3.409535e+04         149.785827      5401.206573   \n",
       "min        9.650000e-01           0.000000         0.000000   \n",
       "25%        1.590000e+03          68.300000      2160.000000   \n",
       "50%        2.410000e+03         100.000000      3200.000000   \n",
       "75%        5.240000e+03         180.000000      7700.000000   \n",
       "max        8.600000e+06       20700.000000    138000.000000   \n",
       "\n",
       "       tensile_strength_at_break  tensile_elongation_at_yield_%_strain  \\\n",
       "count               32333.000000                          25546.000000   \n",
       "mean                   78.071045                             14.035342   \n",
       "std                   107.106461                             57.449070   \n",
       "min                     0.000000                              0.200000   \n",
       "25%                    23.500000                              3.900000   \n",
       "50%                    60.000000                              6.000000   \n",
       "75%                   117.000000                             10.000000   \n",
       "max                 14000.000000                           3700.000000   \n",
       "\n",
       "       tensile_elongation_at_break_%_strain  izod_notched_impact_23c_kjm2  \\\n",
       "count                          57706.000000                  50658.000000   \n",
       "mean                             121.637527                     35.992922   \n",
       "std                             1718.660233                    133.546056   \n",
       "min                                0.000000                      0.016000   \n",
       "25%                                3.400000                      5.196078   \n",
       "50%                               16.000000                      9.411765   \n",
       "75%                              120.000000                     20.000000   \n",
       "max                           300000.000000                   3921.568627   \n",
       "\n",
       "       hardness_rockwell_r  hardness_shore_d  \n",
       "count         14019.000000       8424.000000  \n",
       "mean            101.600970         65.604582  \n",
       "std              18.392496         13.317517  \n",
       "min               7.000000          0.000000  \n",
       "25%              91.000000         60.000000  \n",
       "50%             105.000000         67.000000  \n",
       "75%             117.000000         75.000000  \n",
       "max             145.000000        122.000000  "
      ]
     },
     "execution_count": 146,
     "metadata": {},
     "output_type": "execute_result"
    }
   ],
   "source": [
    "\n",
    "import os\n",
    "import pandas as pd\n",
    "import warnings\n",
    "warnings.filterwarnings('ignore')\n",
    "# Combine all of the .csv files into one df\n",
    "df = pd.DataFrame()\n",
    "for file in os.listdir(\"data\"):\n",
    "    if file.endswith(\".csv\"):\n",
    "        df_tmp = pd.read_csv(os.path.join(\"data\", file))\n",
    "        df = pd.concat([df, df_tmp], ignore_index=True)\n",
    "\n",
    "# Discard completely empty columns\n",
    "df = df.dropna(axis=1, how='all')   \n",
    "# Drop polymer code column\n",
    "df = df.drop(\"Polymer_Code\", axis=1, errors='ignore')\n",
    "# Clean up column names\n",
    "df.columns = df.columns.str.strip().str.replace(\" \", \"_\").str.replace(\"-\", \"_\").str.replace(\"(\", \"\").str.replace(\")\", \"\")\n",
    "# Convert all column names to lowercase\n",
    "df.columns = df.columns.str.lower()\n",
    "# Remove degree symbol from column names\n",
    "df.columns = df.columns.str.replace(\"°\", \"\").str.replace(\"^\" , \"\").str.replace(\"/\", \"\")\n",
    "# Get rid of units in column names\n",
    "df.columns = df.columns.str.replace(\"_gcm3\", \"\").str.replace(\"_mpa\", \"\").str.replace(\"_c\", \"\").str.replace(\"generic_polymer_symbol\", \"polymer_class\")\n",
    "\n",
    "# Drop hardness columns since the scales vary \n",
    "df = df.drop([\"shore_a_hardness\", \"shore_d_hardness\"], axis=1, errors='ignore')\n",
    "\n",
    "# drop product_name, grade, generic_polymer_type\n",
    "df = df.drop([\"product_name\", \"grade\", \"generic_polymer_type\"], axis=1, errors='ignore')\n",
    "df.describe()"
   ]
  },
  {
   "cell_type": "code",
   "execution_count": 147,
   "metadata": {},
   "outputs": [
    {
     "data": {
      "application/vnd.microsoft.datawrangler.viewer.v0+json": {
       "columns": [
        {
         "name": "polymer_class",
         "rawType": "object",
         "type": "string"
        },
        {
         "name": "0",
         "rawType": "int64",
         "type": "integer"
        }
       ],
       "ref": "53a4c853-ab3e-4dbc-928f-0a74b40c8de9",
       "rows": [
        [
         "PP, Unspecified",
         "10070"
        ],
        [
         "Nylon 6",
         "9530"
        ],
        [
         "PP Homopolymer",
         "9416"
        ],
        [
         "Nylon 66",
         "9011"
        ],
        [
         "PP Copolymer",
         "5960"
        ],
        [
         "PC",
         "5457"
        ],
        [
         "PVC, Unspecified",
         "4949"
        ],
        [
         "PC+ABS",
         "3468"
        ],
        [
         "PP Impact Copolymer",
         "3304"
        ],
        [
         "ABS",
         "3153"
        ],
        [
         "HDPE",
         "2673"
        ],
        [
         "PVC, Flexible",
         "2650"
        ],
        [
         "PPS",
         "2212"
        ],
        [
         "LLDPE",
         "1886"
        ],
        [
         "PP Random Copolymer",
         "1874"
        ],
        [
         "Acetal (POM) Copolymer",
         "1852"
        ],
        [
         "LDPE",
         "1797"
        ],
        [
         "PVC, Rigid",
         "986"
        ],
        [
         "PEEK",
         "847"
        ],
        [
         "EVA",
         "773"
        ],
        [
         "PET",
         "648"
        ],
        [
         "Nylon 12",
         "646"
        ],
        [
         "Acrylic (PMMA)",
         "622"
        ],
        [
         "PP+EPDM",
         "612"
        ],
        [
         "PEI",
         "563"
        ],
        [
         "PC+PBT",
         "525"
        ],
        [
         "Nylon, Unspecified",
         "506"
        ],
        [
         "Nylon 66/6",
         "468"
        ],
        [
         "PTFE",
         "400"
        ],
        [
         "ABS+Nylon",
         "384"
        ],
        [
         "Nylon 612",
         "374"
        ],
        [
         "ASA",
         "354"
        ],
        [
         "Acetal (POM) Homopolymer",
         "351"
        ],
        [
         "Nylon 6+PP",
         "321"
        ],
        [
         "PP Alloy",
         "284"
        ],
        [
         "PC+ASA",
         "278"
        ],
        [
         "Nylon 610",
         "256"
        ],
        [
         "Nylon 46",
         "242"
        ],
        [
         "Nylon 11",
         "235"
        ],
        [
         "PVC Homopolymer",
         "227"
        ],
        [
         "PBT+PET",
         "207"
        ],
        [
         "HDPE Copolymer",
         "189"
        ],
        [
         "PC+PET",
         "184"
        ],
        [
         "ABS+PBT",
         "151"
        ],
        [
         "PVC+NBR",
         "135"
        ],
        [
         "Nylon 66+Nylon 6I/6T",
         "130"
        ],
        [
         "HDPE, HMW",
         "125"
        ],
        [
         "Nylon 6+ABS",
         "122"
        ],
        [
         "PVC+PMMA",
         "120"
        ],
        [
         "Nylon 66+Nylon 6I/X",
         "109"
        ]
       ],
       "shape": {
        "columns": 1,
        "rows": 227
       }
      },
      "text/plain": [
       "polymer_class\n",
       "PP, Unspecified    10070\n",
       "Nylon 6             9530\n",
       "PP Homopolymer      9416\n",
       "Nylon 66            9011\n",
       "PP Copolymer        5960\n",
       "                   ...  \n",
       "Nylon 66/610           1\n",
       "PC+PSU                 1\n",
       "PLA+HDPE               1\n",
       "ASA+TPE                1\n",
       "ULDPE+EVA              1\n",
       "Length: 227, dtype: int64"
      ]
     },
     "execution_count": 147,
     "metadata": {},
     "output_type": "execute_result"
    }
   ],
   "source": [
    "\n",
    "# Get an idea of the types of groups\n",
    "df.groupby(\"polymer_class\").size().sort_values(ascending=False)"
   ]
  },
  {
   "cell_type": "code",
   "execution_count": 148,
   "metadata": {},
   "outputs": [
    {
     "data": {
      "application/vnd.microsoft.datawrangler.viewer.v0+json": {
       "columns": [
        {
         "name": "polymer_class",
         "rawType": "object",
         "type": "string"
        },
        {
         "name": "0",
         "rawType": "int64",
         "type": "integer"
        }
       ],
       "ref": "cbf396d7-9745-47e9-a204-5714d2d1f085",
       "rows": [
        [
         "PP, Unspecified",
         "10070"
        ],
        [
         "Nylon 6",
         "9530"
        ],
        [
         "PP Homopolymer",
         "9416"
        ],
        [
         "Nylon 66",
         "9011"
        ],
        [
         "PC",
         "5457"
        ],
        [
         "PVC, Unspecified",
         "4949"
        ],
        [
         "ABS",
         "3153"
        ],
        [
         "HDPE",
         "2673"
        ],
        [
         "PPS",
         "2212"
        ],
        [
         "LLDPE",
         "1886"
        ],
        [
         "LDPE",
         "1797"
        ],
        [
         "PVC, Rigid",
         "986"
        ],
        [
         "PEEK",
         "847"
        ],
        [
         "EVA",
         "773"
        ],
        [
         "PET",
         "648"
        ],
        [
         "Nylon 12",
         "646"
        ],
        [
         "Acrylic (PMMA)",
         "622"
        ],
        [
         "PEI",
         "563"
        ],
        [
         "Nylon, Unspecified",
         "506"
        ],
        [
         "Nylon 66/6",
         "468"
        ],
        [
         "PTFE",
         "400"
        ],
        [
         "Nylon 612",
         "374"
        ],
        [
         "ASA",
         "354"
        ],
        [
         "Acetal (POM) Homopolymer",
         "351"
        ],
        [
         "Nylon 610",
         "256"
        ]
       ],
       "shape": {
        "columns": 1,
        "rows": 25
       }
      },
      "text/plain": [
       "polymer_class\n",
       "PP, Unspecified             10070\n",
       "Nylon 6                      9530\n",
       "PP Homopolymer               9416\n",
       "Nylon 66                     9011\n",
       "PC                           5457\n",
       "PVC, Unspecified             4949\n",
       "ABS                          3153\n",
       "HDPE                         2673\n",
       "PPS                          2212\n",
       "LLDPE                        1886\n",
       "LDPE                         1797\n",
       "PVC, Rigid                    986\n",
       "PEEK                          847\n",
       "EVA                           773\n",
       "PET                           648\n",
       "Nylon 12                      646\n",
       "Acrylic (PMMA)                622\n",
       "PEI                           563\n",
       "Nylon, Unspecified            506\n",
       "Nylon 66/6                    468\n",
       "PTFE                          400\n",
       "Nylon 612                     374\n",
       "ASA                           354\n",
       "Acetal (POM) Homopolymer      351\n",
       "Nylon 610                     256\n",
       "dtype: int64"
      ]
     },
     "execution_count": 148,
     "metadata": {},
     "output_type": "execute_result"
    }
   ],
   "source": [
    "# Discard polymer symbols that are blends, films, copolymers, alloys\n",
    "# A blend has a \"+\" in the symbol\n",
    "df = df[~df[\"polymer_class\"].str.contains(\"\\\\+\", na=False)]\n",
    "# A film has \"film\" in the symbol\n",
    "df = df[~df[\"polymer_class\"].str.contains(\"Film\", na=False)]\n",
    "# An alloy has \"alloy\" in the symbol\n",
    "df = df[~df[\"polymer_class\"].str.contains(\"Alloy\", na=False)]\n",
    "# A copolymer has \"copolymer\" in the symbol\n",
    "df = df[~df[\"polymer_class\"].str.contains(\"Copolymer\", na=False)]\n",
    "# We are only trying to classify rigid polymers\n",
    "df = df[~df[\"polymer_class\"].str.contains(\"Flexible\", na=False)]\n",
    "\n",
    "# Discard any symbols that have less than 250 samples\n",
    "df_counts = df.groupby(\"polymer_class\").size()\n",
    "df = df[df[\"polymer_class\"].isin(df_counts[df_counts >= 250].index)]\n",
    "df.groupby(\"polymer_class\").size().sort_values(ascending=False)"
   ]
  },
  {
   "cell_type": "markdown",
   "metadata": {},
   "source": [
    "For the purpose of this assigment, let's scale down our dataset to only the top handful of groups. We may downselect this further.\n",
    "\n",
    "* Nylons (Nylon 6, Nylon 66)\n",
    "* Polypropylene (PP Homopolymer)\n",
    "* Polycarbonate (PC)\n",
    "* Acrylonitrile butadiene styrene (ABS)\n",
    "* High Density Polyethylenee (HDPE)\n",
    "* Polyphenylene Sulfide (PPS)\n",
    "* Low Density Polyethylene (LDPE)\n",
    "* Polyetheretherketone (PEEK)\n",
    "\n"
   ]
  },
  {
   "cell_type": "code",
   "execution_count": 149,
   "metadata": {},
   "outputs": [
    {
     "data": {
      "application/vnd.microsoft.datawrangler.viewer.v0+json": {
       "columns": [
        {
         "name": "polymer_class",
         "rawType": "object",
         "type": "string"
        },
        {
         "name": "0",
         "rawType": "int64",
         "type": "integer"
        }
       ],
       "ref": "3d70ca77-ef0d-4e88-be75-a1345f96325a",
       "rows": [
        [
         "Nylon",
         "18541"
        ],
        [
         "PP",
         "9416"
        ],
        [
         "PC",
         "5457"
        ],
        [
         "ABS",
         "3153"
        ],
        [
         "HDPE",
         "2673"
        ],
        [
         "PPS",
         "2212"
        ],
        [
         "LDPE",
         "1797"
        ],
        [
         "PEEK",
         "847"
        ]
       ],
       "shape": {
        "columns": 1,
        "rows": 8
       }
      },
      "text/plain": [
       "polymer_class\n",
       "Nylon    18541\n",
       "PP        9416\n",
       "PC        5457\n",
       "ABS       3153\n",
       "HDPE      2673\n",
       "PPS       2212\n",
       "LDPE      1797\n",
       "PEEK       847\n",
       "dtype: int64"
      ]
     },
     "execution_count": 149,
     "metadata": {},
     "output_type": "execute_result"
    }
   ],
   "source": [
    "# Compile and assign some polymer symbols to groups\n",
    "df[\"polymer_class\"] = df[\"polymer_class\"].replace({\n",
    "    \"Nylon 6\": \"Nylon\",\n",
    "    \"Nylon 66\": \"Nylon\",\n",
    "    \"PP Homopolymer\": \"PP\",\n",
    "    \"PC\": \"PC\",\n",
    "    \"ABS\": \"ABS\",\n",
    "    \"HDPE\": \"HDPE\",\n",
    "    \"PPS\": \"PPS\",\n",
    "    \"LDPE\": \"LDPE\",\n",
    "    \"PEEK\": \"PEEK\",\n",
    "    \"PVC\": \"PVC, Rigid\",\n",
    "    \"Acrylic (PMMA)\": \"Acrylic\",\n",
    "})\n",
    "\n",
    "# Discard anything not in the above groups\n",
    "df = df[df[\"polymer_class\"].isin([\n",
    "    \"Nylon\", \"Polypropylene\", \"PC\", \"ABS\", \"HDPE\",\n",
    "    \"PPS\", \"LDPE\", \"PEEK\", \"PP\", \"PVC\", \"PMMA\"\n",
    "])]\n",
    "\n",
    "df.groupby(\"polymer_class\").size().sort_values(ascending=False)"
   ]
  },
  {
   "cell_type": "code",
   "execution_count": 150,
   "metadata": {},
   "outputs": [],
   "source": [
    "# Get an idea of missing values per group\n",
    "df_missing = df.isnull().sum().sort_values(ascending=False)\n",
    "df_missing = df_missing[df_missing > 0]\n",
    "df_missing = df_missing.to_frame(name=\"Missing Values\")\n",
    "df_missing[\"Percentage\"] = df_missing[\"Missing Values\"] / len(df) * 100\n",
    "df_missing = df_missing.sort_values(by=\"Percentage\", ascending=False)\n",
    "\n",
    "# Discard columns that have more than 55% missing values\n",
    "threshold = len(df) * 0.45\n",
    "df = df.dropna(thresh=threshold, axis=1)    \n",
    "\n",
    "# Discard rows that have more than 55% missing values\n",
    "threshold = len(df.columns) * 0.45\n",
    "df = df.dropna(thresh=threshold, axis=0)"
   ]
  },
  {
   "cell_type": "code",
   "execution_count": 151,
   "metadata": {},
   "outputs": [
    {
     "data": {
      "application/vnd.microsoft.datawrangler.viewer.v0+json": {
       "columns": [
        {
         "name": "polymer_class",
         "rawType": "object",
         "type": "string"
        },
        {
         "name": "count",
         "rawType": "int64",
         "type": "integer"
        }
       ],
       "ref": "28122b8e-8528-4837-9766-843266a543e5",
       "rows": [
        [
         "PP",
         "500"
        ],
        [
         "Nylon",
         "500"
        ],
        [
         "PC",
         "500"
        ],
        [
         "ABS",
         "348"
        ],
        [
         "PPS",
         "342"
        ],
        [
         "PEEK",
         "209"
        ]
       ],
       "shape": {
        "columns": 1,
        "rows": 6
       }
      },
      "text/plain": [
       "polymer_class\n",
       "PP       500\n",
       "Nylon    500\n",
       "PC       500\n",
       "ABS      348\n",
       "PPS      342\n",
       "PEEK     209\n",
       "Name: count, dtype: int64"
      ]
     },
     "execution_count": 151,
     "metadata": {},
     "output_type": "execute_result"
    }
   ],
   "source": [
    "# Get a subset of each group to balance the dataset, need no missing values\n",
    "df_balanced = pd.DataFrame()\n",
    "for group in df[\"polymer_class\"].unique():\n",
    "    df_group = df[df[\"polymer_class\"] == group]\n",
    "    # Drop rows with any missing values\n",
    "    df_group = df_group.dropna()\n",
    "    # Get a random sample of up to 100 rows\n",
    "    sample_size = min(500, len(df_group))\n",
    "    if sample_size > 0:\n",
    "        df_sample = df_group.sample(n=sample_size, random_state=42)\n",
    "        df_balanced = pd.concat([df_balanced, df_sample], ignore_index=True)    \n",
    "# Discard any groups with less than 100 samples\n",
    "\n",
    "\n",
    "df_balanced = df_balanced[df_balanced[\"polymer_class\"].isin(df_balanced.groupby(\"polymer_class\").size()[df_balanced.groupby(\"polymer_class\").size() >= 100].index)]\n",
    "\n",
    "df_balanced.polymer_class.value_counts()\n",
    "\n"
   ]
  },
  {
   "cell_type": "code",
   "execution_count": 152,
   "metadata": {},
   "outputs": [
    {
     "data": {
      "image/png": "[encoded data removed]",
      "text/plain": [
       "<Figure size 1200x600 with 1 Axes>"
      ]
     },
     "metadata": {},
     "output_type": "display_data"
    }
   ],
   "source": [
    "# EDA Boxplot\n",
    "import seaborn as sns\n",
    "import matplotlib.pyplot as plt\n",
    "plt.figure(figsize=(12, 6))\n",
    "sns.boxplot(x=\"polymer_class\", y=\"density\", data=df_balanced)\n",
    "plt.title(\"Density by Polymer Type\")\n",
    "plt.xticks(rotation=45)\n",
    "plt.show()\n"
   ]
  },
  {
   "cell_type": "code",
   "execution_count": 153,
   "metadata": {},
   "outputs": [
    {
     "data": {
      "image/png": "[encoded data removed]",
      "text/plain": [
       "<Figure size 1200x600 with 1 Axes>"
      ]
     },
     "metadata": {},
     "output_type": "display_data"
    }
   ],
   "source": [
    "# Repeat for tensile modulus\n",
    "plt.figure(figsize=(12, 6))\n",
    "sns.boxplot(x=\"polymer_class\", y=\"tensile_modulus\", data=df_balanced)\n",
    "plt.title(\"Tensile Modulus by Polymer Type\")\n",
    "plt.xticks(rotation=45)\n",
    "plt.show()\n"
   ]
  },
  {
   "cell_type": "markdown",
   "metadata": {},
   "source": [
    "We have some extreme outliers in the dataset for each group.\n",
    "\n",
    "This is possibly due to an error with the datasource (unit issues, etc). For instance, a density above 10 g/cc is pretty unrealistic and certainly not typical of a polymer.\n",
    "\n",
    "Let's handles this by removing any outliers not in the IQR by group and by column.\n",
    "\n",
    "This may obscure some of the natural variability in our data (polymers can vary widely), but at least the core of each group will be preserved."
   ]
  },
  {
   "cell_type": "code",
   "execution_count": 154,
   "metadata": {},
   "outputs": [],
   "source": [
    "# # Handle outliers\n",
    "# # Discard outliers in density\n",
    "\n",
    "# def remove_iqr_outliers(group):\n",
    "#     num_cols = group.select_dtypes(include='number').columns\n",
    "#     for col in num_cols:\n",
    "#         q1 = group[col].quantile(0.25)\n",
    "#         q3 = group[col].quantile(0.75)\n",
    "#         # inter quartile range\n",
    "#         IQR = q3 - q1\n",
    "#         lower = q1 - 1.5 * IQR\n",
    "#         upper = q3 + 1.5 * IQR\n",
    "#         group = group[(group[col] >= lower) & (group[col] <= upper)]\n",
    "#     return group\n",
    "\n",
    "# df_balanced = df_balanced.groupby('polymer_class', group_keys=False).apply(remove_iqr_outliers)\n",
    "\n",
    "# import seaborn as sns\n",
    "# import matplotlib.pyplot as plt\n",
    "# plt.figure(figsize=(12, 6))\n",
    "# sns.boxplot(x=\"polymer_class\", y=\"density\", data=filtered_df)\n",
    "# plt.title(\"Density by Polymer Type\")\n",
    "# plt.xticks(rotation=45)\n",
    "# plt.show()\n",
    "\n",
    "# # Repeat for tensile modulus\n",
    "# plt.figure(figsize=(12, 6))\n",
    "# sns.boxplot(x=\"polymer_class\", y=\"tensile_modulus\", data=df_balanced)\n",
    "# plt.title(\"Tensile Modulus by Polymer Type\")\n",
    "# plt.xticks(rotation=45)\n",
    "# plt.show()\n"
   ]
  },
  {
   "cell_type": "markdown",
   "metadata": {},
   "source": [
    "### Preprocessing for ML"
   ]
  },
  {
   "cell_type": "code",
   "execution_count": null,
   "metadata": {},
   "outputs": [],
   "source": [
    "# Scale and encode the data\n",
    "from sklearn.preprocessing import StandardScaler, LabelEncoder\n",
    "from sklearn.model_selection import train_test_split\n",
    "# Scale the numerical features\n",
    "scaler = StandardScaler()\n",
    "numerical_features = df_balanced.select_dtypes(include=[\"float64\", \"int64\"]).columns.tolist()\n",
    "df_balanced[numerical_features] = scaler.fit_transform(df_balanced[numerical_features])\n",
    "\n",
    "# Encode the categorical features\n",
    "label_encoder = LabelEncoder()\n",
    "df_balanced[\"polymer_class\"] = label_encoder.fit_transform(df_balanced[\"polymer_class\"])\n",
    "\n",
    "# Split the data into training and test sets\n",
    "X = df_balanced.drop(\"polymer_class\", axis=1)\n",
    "y = df_balanced[\"polymer_class\"]\n",
    "X_train, X_test, y_train, y_test = train_test_split(X, y, test_size=0.2, random_state=42, stratify=y)   \n"
   ]
  },
  {
   "cell_type": "markdown",
   "metadata": {},
   "source": [
    "## Modeling"
   ]
  },
  {
   "cell_type": "markdown",
   "metadata": {},
   "source": [
    "### Logistic Regression"
   ]
  },
  {
   "cell_type": "code",
   "execution_count": 165,
   "metadata": {},
   "outputs": [
    {
     "name": "stderr",
     "output_type": "stream",
     "text": [
      "/Users/mikekeating/opt/anaconda3/envs/pyml/lib/python3.13/site-packages/sklearn/linear_model/_sag.py:348: ConvergenceWarning: The max_iter was reached which means the coef_ did not converge\n",
      "  warnings.warn(\n",
      "/Users/mikekeating/opt/anaconda3/envs/pyml/lib/python3.13/site-packages/sklearn/linear_model/_sag.py:348: ConvergenceWarning: The max_iter was reached which means the coef_ did not converge\n",
      "  warnings.warn(\n",
      "/Users/mikekeating/opt/anaconda3/envs/pyml/lib/python3.13/site-packages/sklearn/linear_model/_sag.py:348: ConvergenceWarning: The max_iter was reached which means the coef_ did not converge\n",
      "  warnings.warn(\n",
      "/Users/mikekeating/opt/anaconda3/envs/pyml/lib/python3.13/site-packages/sklearn/linear_model/_sag.py:348: ConvergenceWarning: The max_iter was reached which means the coef_ did not converge\n",
      "  warnings.warn(\n",
      "/Users/mikekeating/opt/anaconda3/envs/pyml/lib/python3.13/site-packages/sklearn/linear_model/_sag.py:348: ConvergenceWarning: The max_iter was reached which means the coef_ did not converge\n",
      "  warnings.warn(\n",
      "/Users/mikekeating/opt/anaconda3/envs/pyml/lib/python3.13/site-packages/sklearn/linear_model/_sag.py:348: ConvergenceWarning: The max_iter was reached which means the coef_ did not converge\n",
      "  warnings.warn(\n",
      "/Users/mikekeating/opt/anaconda3/envs/pyml/lib/python3.13/site-packages/sklearn/linear_model/_sag.py:348: ConvergenceWarning: The max_iter was reached which means the coef_ did not converge\n",
      "  warnings.warn(\n",
      "/Users/mikekeating/opt/anaconda3/envs/pyml/lib/python3.13/site-packages/sklearn/linear_model/_sag.py:348: ConvergenceWarning: The max_iter was reached which means the coef_ did not converge\n",
      "  warnings.warn(\n",
      "/Users/mikekeating/opt/anaconda3/envs/pyml/lib/python3.13/site-packages/sklearn/linear_model/_sag.py:348: ConvergenceWarning: The max_iter was reached which means the coef_ did not converge\n",
      "  warnings.warn(\n",
      "/Users/mikekeating/opt/anaconda3/envs/pyml/lib/python3.13/site-packages/sklearn/linear_model/_sag.py:348: ConvergenceWarning: The max_iter was reached which means the coef_ did not converge\n",
      "  warnings.warn(\n",
      "/Users/mikekeating/opt/anaconda3/envs/pyml/lib/python3.13/site-packages/sklearn/linear_model/_sag.py:348: ConvergenceWarning: The max_iter was reached which means the coef_ did not converge\n",
      "  warnings.warn(\n",
      "/Users/mikekeating/opt/anaconda3/envs/pyml/lib/python3.13/site-packages/sklearn/linear_model/_sag.py:348: ConvergenceWarning: The max_iter was reached which means the coef_ did not converge\n",
      "  warnings.warn(\n",
      "/Users/mikekeating/opt/anaconda3/envs/pyml/lib/python3.13/site-packages/sklearn/linear_model/_sag.py:348: ConvergenceWarning: The max_iter was reached which means the coef_ did not converge\n",
      "  warnings.warn(\n"
     ]
    },
    {
     "name": "stdout",
     "output_type": "stream",
     "text": [
      "Best parameters for Logistic Regression: {'logisticregression__C': 10, 'logisticregression__penalty': 'l2', 'logisticregression__solver': 'lbfgs'}\n",
      "Classification Report for Logistic Regression:\n",
      "               precision    recall  f1-score   support\n",
      "\n",
      "         ABS       0.78      0.71      0.75        70\n",
      "       Nylon       0.58      0.63      0.60       100\n",
      "          PC       0.80      0.78      0.79       100\n",
      "        PEEK       0.70      0.33      0.45        42\n",
      "          PP       0.79      0.88      0.83       100\n",
      "         PPS       0.71      0.81      0.75        68\n",
      "\n",
      "    accuracy                           0.72       480\n",
      "   macro avg       0.73      0.69      0.70       480\n",
      "weighted avg       0.73      0.72      0.72       480\n",
      "\n"
     ]
    },
    {
     "data": {
      "image/png": "[encoded data removed]",
      "text/plain": [
       "<Figure size 1000x800 with 2 Axes>"
      ]
     },
     "metadata": {},
     "output_type": "display_data"
    }
   ],
   "source": [
    "# Multi-class logistic regression\n",
    "warnings.filterwarnings('ignore')\n",
    "from sklearn.linear_model import LogisticRegression\n",
    "from sklearn.metrics import classification_report, confusion_matrix\n",
    "from sklearn.pipeline import make_pipeline\n",
    "from sklearn.model_selection import GridSearchCV\n",
    "\n",
    "pipe_logreg = make_pipeline(StandardScaler(), LogisticRegression(max_iter=1000))\n",
    "pipe_logreg.fit(X_train, y_train)\n",
    "\n",
    "param_grid_logreg = [\n",
    "    {\n",
    "        'logisticregression__solver': ['lbfgs'],\n",
    "        'logisticregression__C': [0.01, 0.1, 1, 10],\n",
    "        'logisticregression__penalty': ['l2'],\n",
    "    },\n",
    "    {\n",
    "        'logisticregression__solver': ['liblinear'],\n",
    "        'logisticregression__C': [0.01, 0.1, 1, 10],\n",
    "        'logisticregression__penalty': ['l2'],\n",
    "    },\n",
    "    {\n",
    "        'logisticregression__solver': ['saga'],\n",
    "        'logisticregression__C': [0.01, 0.1, 1, 10],\n",
    "        'logisticregression__penalty': ['l1', 'l2'],\n",
    "    }\n",
    "]\n",
    "grid_search_logreg = GridSearchCV(pipe_logreg, param_grid_logreg, cv=5, scoring=\"accuracy\", n_jobs=-1)\n",
    "\n",
    "grid_search_logreg.fit(X_train, y_train)\n",
    "y_pred_logreg = grid_search_logreg.predict(X_test)\n",
    "\n",
    "print(\"Best parameters for Logistic Regression:\", grid_search_logreg.best_params_)\n",
    "print(\"Classification Report for Logistic Regression:\\n\", classification_report(y_test, y_pred_logreg, target_names=label_encoder.classes_))\n",
    "\n",
    "\n",
    "# Visualize the results with seaborn\n",
    "cm_logreg = confusion_matrix(y_test, y_pred_logreg)\n",
    "plt.figure(figsize=(10, 8))\n",
    "sns.heatmap(cm_logreg, annot=True, fmt='d', cmap='Blues', xticklabels=label_encoder.classes_, yticklabels=label_encoder.classes_)\n",
    "plt.title(\"Confusion Matrix for Logistic Regression\")\n",
    "plt.xlabel(\"Predicted\")\n",
    "plt.ylabel(\"Actual\")\n",
    "plt.show()"
   ]
  },
  {
   "cell_type": "markdown",
   "metadata": {},
   "source": [
    "### K-Nearest Neighbors"
   ]
  },
  {
   "cell_type": "code",
   "execution_count": null,
   "metadata": {},
   "outputs": [
    {
     "name": "stdout",
     "output_type": "stream",
     "text": [
      "Best parameters: {'kneighborsclassifier__n_neighbors': 1}\n",
      "Best cross-validation score: 0.8723358420593368\n",
      "Test set score: 0.8833333333333333\n"
     ]
    },
    {
     "data": {
      "image/png": "[encoded data removed]",
      "text/plain": [
       "<Figure size 1000x600 with 1 Axes>"
      ]
     },
     "metadata": {},
     "output_type": "display_data"
    },
    {
     "data": {
      "image/png": "[encoded data removed]",
      "text/plain": [
       "<Figure size 640x480 with 2 Axes>"
      ]
     },
     "metadata": {},
     "output_type": "display_data"
    }
   ],
   "source": [
    "\n",
    "from sklearn.model_selection import GridSearchCV\n",
    "from sklearn.neighbors import KNeighborsClassifier\n",
    "\n",
    "\n",
    "param_range = range(1,16)\n",
    "pipe_knn = make_pipeline(StandardScaler(), KNeighborsClassifier())\n",
    "param_grid = [{\"kneighborsclassifier__n_neighbors\": param_range}]\n",
    "\n",
    "gs = GridSearchCV(estimator=pipe_knn, param_grid=param_grid, scoring=\"accuracy\", cv=10, n_jobs=-1)\n",
    "gs = gs.fit(X_train, y_train)\n",
    "\n",
    "print(\"Best parameters:\", gs.best_params_)\n",
    "print(\"Best cross-validation score:\", gs.best_score_)\n",
    "print(\"Test set score:\", gs.score(X_test, y_test))\n",
    "\n",
    "# Visualize the results with seaborn\n",
    "results = pd.DataFrame(gs.cv_results_)\n",
    "plt.figure(figsize=(10, 6))\n",
    "sns.lineplot(x=\"param_kneighborsclassifier__n_neighbors\", y=\"mean_test_score\", data=results)\n",
    "plt.fill_between(results[\"param_kneighborsclassifier__n_neighbors\"],\n",
    "                 results[\"mean_test_score\"] - results[\"std_test_score\"],\n",
    "                 results[\"mean_test_score\"] + results[\"std_test_score\"], alpha=0.2)\n",
    "plt.title(\"KNN Hyperparameter Tuning Results\")\n",
    "plt.xlabel(\"Number of Neighbors\")\n",
    "plt.ylabel(\"Mean Test Score\")\n",
    "plt.xticks(param_range)\n",
    "plt.grid()\n",
    "plt.show()\n",
    "\n",
    "# Plot Confusion Matrix\n",
    "from sklearn.metrics import confusion_matrix, ConfusionMatrixDisplay\n",
    "y_pred = gs.predict(X_test)\n",
    "cm = confusion_matrix(y_test, y_pred, labels=gs.classes_)\n",
    "disp = ConfusionMatrixDisplay(confusion_matrix=cm, display_labels=gs.classes_)\n",
    "disp.plot(cmap=plt.cm.Blues)\n",
    "plt.title(\"Confusion Matrix for KNN Classifier\")\n",
    "plt.show()\n"
   ]
  },
  {
   "cell_type": "markdown",
   "metadata": {},
   "source": [
    "## Random Forest"
   ]
  },
  {
   "cell_type": "code",
   "execution_count": null,
   "metadata": {},
   "outputs": [
    {
     "name": "stdout",
     "output_type": "stream",
     "text": [
      "Best parameters: {'randomforestclassifier__max_depth': None, 'randomforestclassifier__max_features': 'sqrt', 'randomforestclassifier__min_samples_leaf': 1, 'randomforestclassifier__min_samples_split': 2, 'randomforestclassifier__n_estimators': 100}\n",
      "Test classification report:\n",
      "              precision    recall  f1-score   support\n",
      "\n",
      "           0       0.96      0.91      0.93        70\n",
      "           1       0.83      0.82      0.82       100\n",
      "           2       0.88      0.95      0.91       100\n",
      "           3       0.88      0.71      0.79        42\n",
      "           4       0.97      0.98      0.98       100\n",
      "           5       0.93      0.97      0.95        68\n",
      "\n",
      "    accuracy                           0.91       480\n",
      "   macro avg       0.91      0.89      0.90       480\n",
      "weighted avg       0.91      0.91      0.91       480\n",
      "\n"
     ]
    },
    {
     "data": {
      "image/png": "[encoded data removed]",
      "text/plain": [
       "<Figure size 1000x800 with 2 Axes>"
      ]
     },
     "metadata": {},
     "output_type": "display_data"
    }
   ],
   "source": [
    "from sklearn.ensemble import RandomForestClassifier\n",
    "from sklearn.pipeline import make_pipeline\n",
    "from sklearn.preprocessing import StandardScaler\n",
    "from sklearn.model_selection import GridSearchCV\n",
    "from sklearn.metrics import classification_report\n",
    "\n",
    "# Pipeline (scaling not strictly needed for Random Forest, but kept for consistency)\n",
    "pipe_rf = make_pipeline(\n",
    "    StandardScaler(),  # Can remove if all features are numeric and well-scaled already\n",
    "    RandomForestClassifier(random_state=42)\n",
    ")\n",
    "\n",
    "# Grid of hyperparameters\n",
    "param_grid_rf = {\n",
    "    \"randomforestclassifier__n_estimators\": [100, 200],\n",
    "    \"randomforestclassifier__max_depth\": [None, 10, 20],\n",
    "    \"randomforestclassifier__min_samples_split\": [2, 5],\n",
    "    \"randomforestclassifier__min_samples_leaf\": [1, 2],\n",
    "    \"randomforestclassifier__max_features\": ['sqrt', 'log2', None]\n",
    "}\n",
    "\n",
    "# Grid search\n",
    "grid_search_rf = GridSearchCV(\n",
    "    pipe_rf,\n",
    "    param_grid_rf,\n",
    "    cv=5,\n",
    "    scoring=\"accuracy\",\n",
    "    n_jobs=-1\n",
    ")\n",
    "\n",
    "# Fit\n",
    "grid_search_rf.fit(X_train, y_train)\n",
    "\n",
    "# Predict with best model\n",
    "y_pred_rf = grid_search_rf.predict(X_test)\n",
    "\n",
    "# Results\n",
    "print(\"Best parameters:\", grid_search_rf.best_params_)\n",
    "print(\"Test classification report:\")\n",
    "print(classification_report(y_test, y_pred_rf))\n",
    "\n",
    "# Visualize the results with seaborn\n",
    "cm_rf = confusion_matrix(y_test, y_pred_rf)\n",
    "plt.figure(figsize=(10, 8)) \n",
    "sns.heatmap(cm_rf, annot=True, fmt='d', cmap='Blues', xticklabels=label_encoder.classes_, yticklabels=label_encoder.classes_)\n",
    "plt.title(\"Confusion Matrix for Random Forest Classifier\")\n",
    "plt.xlabel(\"Predicted\")\n",
    "plt.ylabel(\"Actual\")\n",
    "plt.show()\n"
   ]
  },
  {
   "cell_type": "code",
   "execution_count": 1,
   "metadata": {},
   "outputs": [
    {
     "ename": "XGBoostError",
     "evalue": "\nXGBoost Library (libxgboost.dylib) could not be loaded.\nLikely causes:\n  * OpenMP runtime is not installed\n    - vcomp140.dll or libgomp-1.dll for Windows\n    - libomp.dylib for Mac OSX\n    - libgomp.so for Linux and other UNIX-like OSes\n    Mac OSX users: Run `brew install libomp` to install OpenMP runtime.\n\n  * You are running 32-bit Python on a 64-bit OS\n\nError message(s): [\"dlopen(/Users/mikekeating/opt/anaconda3/envs/pyml/lib/python3.13/site-packages/xgboost/lib/libxgboost.dylib, 0x0006): Library not loaded: @rpath/libomp.dylib\\n  Referenced from: <3438F411-CE75-3B9D-AC3F-79994953DB2D> /Users/mikekeating/opt/anaconda3/envs/pyml/lib/python3.13/site-packages/xgboost/lib/libxgboost.dylib\\n  Reason: tried: '/usr/local/opt/libomp/lib/libomp.dylib' (no such file), '/System/Volumes/Preboot/Cryptexes/OS/usr/local/opt/libomp/lib/libomp.dylib' (no such file), '/usr/local/opt/libomp/lib/libomp.dylib' (no such file), '/System/Volumes/Preboot/Cryptexes/OS/usr/local/opt/libomp/lib/libomp.dylib' (no such file), '/Users/mikekeating/opt/anaconda3/envs/pyml/lib/python3.13/lib-dynload/../../libomp.dylib' (no such file), '/Users/mikekeating/opt/anaconda3/envs/pyml/bin/../lib/libomp.dylib' (no such file)\"]\n",
     "output_type": "error",
     "traceback": [
      "\u001b[31m---------------------------------------------------------------------------\u001b[39m",
      "\u001b[31mXGBoostError\u001b[39m                              Traceback (most recent call last)",
      "\u001b[36mCell\u001b[39m\u001b[36m \u001b[39m\u001b[32mIn[1]\u001b[39m\u001b[32m, line 1\u001b[39m\n\u001b[32m----> \u001b[39m\u001b[32m1\u001b[39m \u001b[38;5;28;01mfrom\u001b[39;00m\u001b[38;5;250m \u001b[39m\u001b[34;01mxgboost\u001b[39;00m\u001b[38;5;250m \u001b[39m\u001b[38;5;28;01mimport\u001b[39;00m XGBClassifier\n\u001b[32m      2\u001b[39m \u001b[38;5;28;01mfrom\u001b[39;00m\u001b[38;5;250m \u001b[39m\u001b[34;01msklearn\u001b[39;00m\u001b[34;01m.\u001b[39;00m\u001b[34;01mpipeline\u001b[39;00m\u001b[38;5;250m \u001b[39m\u001b[38;5;28;01mimport\u001b[39;00m make_pipeline\n\u001b[32m      3\u001b[39m \u001b[38;5;28;01mfrom\u001b[39;00m\u001b[38;5;250m \u001b[39m\u001b[34;01msklearn\u001b[39;00m\u001b[34;01m.\u001b[39;00m\u001b[34;01mpreprocessing\u001b[39;00m\u001b[38;5;250m \u001b[39m\u001b[38;5;28;01mimport\u001b[39;00m StandardScaler\n",
      "\u001b[36mFile \u001b[39m\u001b[32m~/opt/anaconda3/envs/pyml/lib/python3.13/site-packages/xgboost/__init__.py:6\u001b[39m\n\u001b[32m      1\u001b[39m \u001b[33;03m\"\"\"XGBoost: eXtreme Gradient Boosting library.\u001b[39;00m\n\u001b[32m      2\u001b[39m \n\u001b[32m      3\u001b[39m \u001b[33;03mContributors: https://github.com/dmlc/xgboost/blob/master/CONTRIBUTORS.md\u001b[39;00m\n\u001b[32m      4\u001b[39m \u001b[33;03m\"\"\"\u001b[39;00m\n\u001b[32m----> \u001b[39m\u001b[32m6\u001b[39m \u001b[38;5;28;01mfrom\u001b[39;00m\u001b[38;5;250m \u001b[39m\u001b[34;01m.\u001b[39;00m\u001b[38;5;250m \u001b[39m\u001b[38;5;28;01mimport\u001b[39;00m tracker  \u001b[38;5;66;03m# noqa\u001b[39;00m\n\u001b[32m      7\u001b[39m \u001b[38;5;28;01mfrom\u001b[39;00m\u001b[38;5;250m \u001b[39m\u001b[34;01m.\u001b[39;00m\u001b[38;5;250m \u001b[39m\u001b[38;5;28;01mimport\u001b[39;00m collective\n\u001b[32m      8\u001b[39m \u001b[38;5;28;01mfrom\u001b[39;00m\u001b[38;5;250m \u001b[39m\u001b[34;01m.\u001b[39;00m\u001b[34;01mcore\u001b[39;00m\u001b[38;5;250m \u001b[39m\u001b[38;5;28;01mimport\u001b[39;00m (\n\u001b[32m      9\u001b[39m     Booster,\n\u001b[32m     10\u001b[39m     DataIter,\n\u001b[32m   (...)\u001b[39m\u001b[32m     15\u001b[39m     build_info,\n\u001b[32m     16\u001b[39m )\n",
      "\u001b[36mFile \u001b[39m\u001b[32m~/opt/anaconda3/envs/pyml/lib/python3.13/site-packages/xgboost/tracker.py:9\u001b[39m\n\u001b[32m      6\u001b[39m \u001b[38;5;28;01mfrom\u001b[39;00m\u001b[38;5;250m \u001b[39m\u001b[34;01menum\u001b[39;00m\u001b[38;5;250m \u001b[39m\u001b[38;5;28;01mimport\u001b[39;00m IntEnum, unique\n\u001b[32m      7\u001b[39m \u001b[38;5;28;01mfrom\u001b[39;00m\u001b[38;5;250m \u001b[39m\u001b[34;01mtyping\u001b[39;00m\u001b[38;5;250m \u001b[39m\u001b[38;5;28;01mimport\u001b[39;00m Dict, Optional, Union\n\u001b[32m----> \u001b[39m\u001b[32m9\u001b[39m \u001b[38;5;28;01mfrom\u001b[39;00m\u001b[38;5;250m \u001b[39m\u001b[34;01m.\u001b[39;00m\u001b[34;01mcore\u001b[39;00m\u001b[38;5;250m \u001b[39m\u001b[38;5;28;01mimport\u001b[39;00m _LIB, _check_call, _deprecate_positional_args, make_jcargs\n\u001b[32m     12\u001b[39m \u001b[38;5;28;01mdef\u001b[39;00m\u001b[38;5;250m \u001b[39m\u001b[34mget_family\u001b[39m(addr: \u001b[38;5;28mstr\u001b[39m) -> \u001b[38;5;28mint\u001b[39m:\n\u001b[32m     13\u001b[39m \u001b[38;5;250m    \u001b[39m\u001b[33;03m\"\"\"Get network family from address.\"\"\"\u001b[39;00m\n",
      "\u001b[36mFile \u001b[39m\u001b[32m~/opt/anaconda3/envs/pyml/lib/python3.13/site-packages/xgboost/core.py:295\u001b[39m\n\u001b[32m    291\u001b[39m     \u001b[38;5;28;01mreturn\u001b[39;00m lib\n\u001b[32m    294\u001b[39m \u001b[38;5;66;03m# load the XGBoost library globally\u001b[39;00m\n\u001b[32m--> \u001b[39m\u001b[32m295\u001b[39m _LIB = \u001b[43m_load_lib\u001b[49m\u001b[43m(\u001b[49m\u001b[43m)\u001b[49m\n\u001b[32m    298\u001b[39m \u001b[38;5;28;01mdef\u001b[39;00m\u001b[38;5;250m \u001b[39m\u001b[34m_check_call\u001b[39m(ret: \u001b[38;5;28mint\u001b[39m) -> \u001b[38;5;28;01mNone\u001b[39;00m:\n\u001b[32m    299\u001b[39m \u001b[38;5;250m    \u001b[39m\u001b[33;03m\"\"\"Check the return value of C API call\u001b[39;00m\n\u001b[32m    300\u001b[39m \n\u001b[32m    301\u001b[39m \u001b[33;03m    This function will raise exception when error occurs.\u001b[39;00m\n\u001b[32m   (...)\u001b[39m\u001b[32m    307\u001b[39m \u001b[33;03m        return value from API calls\u001b[39;00m\n\u001b[32m    308\u001b[39m \u001b[33;03m    \"\"\"\u001b[39;00m\n",
      "\u001b[36mFile \u001b[39m\u001b[32m~/opt/anaconda3/envs/pyml/lib/python3.13/site-packages/xgboost/core.py:257\u001b[39m, in \u001b[36m_load_lib\u001b[39m\u001b[34m()\u001b[39m\n\u001b[32m    255\u001b[39m     \u001b[38;5;28;01mif\u001b[39;00m \u001b[38;5;129;01mnot\u001b[39;00m lib_success:\n\u001b[32m    256\u001b[39m         libname = os.path.basename(lib_paths[\u001b[32m0\u001b[39m])\n\u001b[32m--> \u001b[39m\u001b[32m257\u001b[39m         \u001b[38;5;28;01mraise\u001b[39;00m XGBoostError(\n\u001b[32m    258\u001b[39m             \u001b[33mf\u001b[39m\u001b[33m\"\"\"\u001b[39m\n\u001b[32m    259\u001b[39m \u001b[33mXGBoost Library (\u001b[39m\u001b[38;5;132;01m{\u001b[39;00mlibname\u001b[38;5;132;01m}\u001b[39;00m\u001b[33m) could not be loaded.\u001b[39m\n\u001b[32m    260\u001b[39m \u001b[33mLikely causes:\u001b[39m\n\u001b[32m    261\u001b[39m \u001b[33m  * OpenMP runtime is not installed\u001b[39m\n\u001b[32m    262\u001b[39m \u001b[33m    - vcomp140.dll or libgomp-1.dll for Windows\u001b[39m\n\u001b[32m    263\u001b[39m \u001b[33m    - libomp.dylib for Mac OSX\u001b[39m\n\u001b[32m    264\u001b[39m \u001b[33m    - libgomp.so for Linux and other UNIX-like OSes\u001b[39m\n\u001b[32m    265\u001b[39m \u001b[33m    Mac OSX users: Run `brew install libomp` to install OpenMP runtime.\u001b[39m\n\u001b[32m    266\u001b[39m \n\u001b[32m    267\u001b[39m \u001b[33m  * You are running 32-bit Python on a 64-bit OS\u001b[39m\n\u001b[32m    268\u001b[39m \n\u001b[32m    269\u001b[39m \u001b[33mError message(s): \u001b[39m\u001b[38;5;132;01m{\u001b[39;00mos_error_list\u001b[38;5;132;01m}\u001b[39;00m\n\u001b[32m    270\u001b[39m \u001b[33m\"\"\"\u001b[39m\n\u001b[32m    271\u001b[39m         )\n\u001b[32m    272\u001b[39m     _register_log_callback(lib)\n\u001b[32m    274\u001b[39m     libver = _lib_version(lib)\n",
      "\u001b[31mXGBoostError\u001b[39m: \nXGBoost Library (libxgboost.dylib) could not be loaded.\nLikely causes:\n  * OpenMP runtime is not installed\n    - vcomp140.dll or libgomp-1.dll for Windows\n    - libomp.dylib for Mac OSX\n    - libgomp.so for Linux and other UNIX-like OSes\n    Mac OSX users: Run `brew install libomp` to install OpenMP runtime.\n\n  * You are running 32-bit Python on a 64-bit OS\n\nError message(s): [\"dlopen(/Users/mikekeating/opt/anaconda3/envs/pyml/lib/python3.13/site-packages/xgboost/lib/libxgboost.dylib, 0x0006): Library not loaded: @rpath/libomp.dylib\\n  Referenced from: <3438F411-CE75-3B9D-AC3F-79994953DB2D> /Users/mikekeating/opt/anaconda3/envs/pyml/lib/python3.13/site-packages/xgboost/lib/libxgboost.dylib\\n  Reason: tried: '/usr/local/opt/libomp/lib/libomp.dylib' (no such file), '/System/Volumes/Preboot/Cryptexes/OS/usr/local/opt/libomp/lib/libomp.dylib' (no such file), '/usr/local/opt/libomp/lib/libomp.dylib' (no such file), '/System/Volumes/Preboot/Cryptexes/OS/usr/local/opt/libomp/lib/libomp.dylib' (no such file), '/Users/mikekeating/opt/anaconda3/envs/pyml/lib/python3.13/lib-dynload/../../libomp.dylib' (no such file), '/Users/mikekeating/opt/anaconda3/envs/pyml/bin/../lib/libomp.dylib' (no such file)\"]\n"
     ]
    }
   ],
   "source": [
    "\n",
    "from xgboost import XGBClassifier\n",
    "from sklearn.pipeline import make_pipeline\n",
    "from sklearn.preprocessing import StandardScaler\n",
    "from sklearn.model_selection import GridSearchCV\n",
    "from sklearn.metrics import classification_report\n",
    "\n",
    "pipe_xgb = make_pipeline(\n",
    "    StandardScaler(),  # Optional: XGBoost doesn't need this unless inputs are wildly scaled\n",
    "    XGBClassifier(use_label_encoder=False, eval_metric='mlogloss', random_state=42)\n",
    ")\n",
    "\n",
    "param_grid_xgb = {\n",
    "    'xgbclassifier__n_estimators': [100, 200],\n",
    "    'xgbclassifier__max_depth': [3, 5, 7],\n",
    "    'xgbclassifier__learning_rate': [0.01, 0.1, 0.3],\n",
    "}\n",
    "\n",
    "grid_search_xgb = GridSearchCV(pipe_xgb, param_grid_xgb, cv=5, scoring='accuracy', n_jobs=-1)\n",
    "grid_search_xgb.fit(X_train, y_train)\n",
    "\n",
    "print(\"Best parameters:\", grid_search_xgb.best_params_)\n",
    "print(classification_report(y_test, grid_search_xgb.predict(X_test)))"
   ]
  }
 ],
 "metadata": {
  "kernelspec": {
   "display_name": "pyml",
   "language": "python",
   "name": "python3"
  },
  "language_info": {
   "codemirror_mode": {
    "name": "ipython",
    "version": 3
   },
   "file_extension": ".py",
   "mimetype": "text/x-python",
   "name": "python",
   "nbconvert_exporter": "python",
   "pygments_lexer": "ipython3",
   "version": "3.13.2"
  }
 },
 "nbformat": 4,
 "nbformat_minor": 2
}
