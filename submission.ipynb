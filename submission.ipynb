{
 "cells": [
  {
   "cell_type": "markdown",
   "id": "071176cd",
   "metadata": {},
   "source": [
    "# Polymer Classification Project Submission\n",
    "\n",
    "**Student:** Mike Keating  \n",
    "**Course:** EM 538  \n",
    "**Date:** July 28, 2025\n",
    "\n",
    "---\n"
   ]
  },
  {
   "cell_type": "markdown",
   "id": "4ace7446",
   "metadata": {},
   "source": [
    "## Project Repository\n",
    "\n",
    "**GitHub Repository:** [https://github.com/mike-keating-iv/polymer-classification](https://github.com/mike-keating-iv/polymer-classification)\n",
    "\n",
    "**Interactive Notebook:** [Open in Google Colab](https://colab.research.google.com/github/mike-keating-iv/polymer-classification/blob/main/polymers_classifier.ipynb)\n",
    "\n",
    "---\n"
   ]
  },
  {
   "cell_type": "markdown",
   "id": "8ce0c5c9",
   "metadata": {},
   "source": [
    "## Project Overview\n",
    "\n",
    "Machine learning models to classify polymer materials using mechanical and physical properties.\n",
    "\n",
    "**Key Results:**\n",
    "\n",
    "- 10 polymer classes (ABS, HDPE, LDPE, Nylon, PC, PEEK, PMMA, PP, PPS, PVC)\n",
    "- 4 models tested: Logistic Regression, KNN, Random Forest, XGBoost\n",
    "- Best performance: XGBoost with 97% accuracy\n",
    "\n",
    "---\n"
   ]
  },
  {
   "cell_type": "markdown",
   "id": "b0ced413",
   "metadata": {},
   "source": [
    "## Repository Contents\n",
    "\n",
    "- `polymers_classifier.ipynb` - Main analysis notebook\n",
    "- `README.md` - Project documentation\n",
    "- `data/` - 16 CSV files with polymer property data\n",
    "- `presentation/` - Final presentation\n",
    "\n",
    "---\n"
   ]
  },
  {
   "cell_type": "markdown",
   "id": "295beb3d",
   "metadata": {},
   "source": [
    "## Quick Start\n",
    "\n",
    "**Option 1:** Click \"Open in Colab\" link above\n",
    "\n",
    "**Option 2:** Clone repository and run locally\n",
    "\n",
    "```bash\n",
    "git clone https://github.com/mike-keating-iv/polymer-classification.git\n",
    "jupyter notebook polymers_classifier.ipynb\n",
    "```\n",
    "\n",
    "---\n"
   ]
  },
  {
   "cell_type": "markdown",
   "id": "05c0ac27",
   "metadata": {},
   "source": [
    "## Results Summary\n",
    "\n",
    "| Model               | Accuracy | Training Time |\n",
    "| ------------------- | -------- | ------------- |\n",
    "| XGBoost             | 97%      | 50s           |\n",
    "| Random Forest       | 95%      | 30s           |\n",
    "| KNN                 | 93%      | 3s            |\n",
    "| Logistic Regression | 85%      | 5s            |\n",
    "\n",
    "**Selected Model:** XGBoost\n",
    "\n",
    "---\n"
   ]
  },
  {
   "cell_type": "markdown",
   "id": "15bc43b9",
   "metadata": {},
   "source": [
    "## Project Significance\n",
    "\n",
    "Automates polymer classification for materials databases and R&D workflows. Successfully validated on external polycarbonate data.\n",
    "\n",
    "---\n"
   ]
  },
  {
   "cell_type": "markdown",
   "id": "37756c0a",
   "metadata": {},
   "source": [
    "## Contact\n",
    "\n",
    "**Mike Keating**  \n",
    "Graduate Student, Materials & Industrial Engineering  \n",
    "North Carolina State University\n",
    "\n",
    "_Complete analysis available in the GitHub repository above._\n"
   ]
  }
 ],
 "metadata": {
  "language_info": {
   "name": "python"
  }
 },
 "nbformat": 4,
 "nbformat_minor": 5
}
